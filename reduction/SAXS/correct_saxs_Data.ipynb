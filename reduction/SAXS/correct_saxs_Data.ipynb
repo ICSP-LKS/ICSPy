{
 "cells": [
  {
   "cell_type": "markdown",
   "metadata": {},
   "source": [
    "# Script for the Correction of differential scattering cross section in SAXS experiments (cooking book)"
   ]
  },
  {
   "cell_type": "code",
   "execution_count": 1,
   "metadata": {},
   "outputs": [],
   "source": [
    "import numpy as np\n",
    "import pandas as pd\n",
    "import matplotlib.pyplot as plt"
   ]
  },
  {
   "cell_type": "markdown",
   "metadata": {},
   "source": [
    "URL for SAXS data of glassy carbon reference. There are several different onex available. The signal in high Q is nearly the same for all of them. Only in the low Q region they diverge from one another. The urls shown below correspond to the Glassy_Carbon_A, _B and _C samples from ANL. This script uses a Glassy carbon sample measured in another institute as reference."
   ]
  },
  {
   "cell_type": "markdown",
   "metadata": {},
   "source": [
    "Function to correct the thickness of the sample, by measuring an empty cuvette and one filled with water. For that two measurements with transmission and empty beam correspondingly have to be done with H2O and an empty cuvette. The mass attenuation coefficient for water in room temperature is $\\frac{\\mu}{\\rho}=10.37\\frac{cm²}{g}$. The sample thickness d can then be calculated by using:\n",
    "\\vspace{3mm}\n",
    "\n",
    "$$d = -\\rho_{H_2O}\\frac{\\rho}{\\mu}ln\\left(\\frac{T_{H_2O+cell}}{T_{cell}}\\right)$$\n",
    "\n",
    "\\vspace{3mm}\n",
    ", with T being the transmission factors for an empty cell and water and $\\rho_{H_2O}=1\\frac{g}{cm²}$."
   ]
  },
  {
   "cell_type": "code",
   "execution_count": 2,
   "metadata": {},
   "outputs": [],
   "source": [
    "# Übergabe: \n",
    "#    - Transmissionfactor water+cell T_wc\n",
    "#    - only cell T_c \n",
    "#    - Anode type, most of the time copper\n",
    "\n",
    "\n",
    "def calc_d(T_wc,T_c,typ='copper'):\n",
    "    \n",
    "    if typ=='copper':\n",
    "        MAC_w = 10.37 #cm²/g, for copper anode\n",
    "        \n",
    "    rho_w = 1 #g/cm³\n",
    "    \n",
    "    d = -np.log(T_wc/T_c)*1/(MAC_w*rho_w) #cm\n",
    "    return(d)"
   ]
  },
  {
   "cell_type": "markdown",
   "metadata": {},
   "source": [
    "%display latex\n",
    "Function to calculate the transmission factor for intensity of sample S and empty beam intensity $I_0$:\n",
    "\\vspace{3mm}\n",
    "$$T_S=\\frac{I_S}{I_0}$$"
   ]
  },
  {
   "cell_type": "code",
   "execution_count": 3,
   "metadata": {},
   "outputs": [],
   "source": [
    "def calc_T(I_S,I_0):\n",
    "    return(I_S/I_0)"
   ]
  },
  {
   "cell_type": "markdown",
   "metadata": {},
   "source": [
    "This Function calulates the Scaling or Correction Factor with a Glassy Carbon measurement done in your setup and scales it so it fits the intensity of the 'Glassy-Carbon-A' sample from ANL. You can chose whatever reference sample you like. They should turn out more or less the same. For consistency's sake, I will solely use the A sample. The formula for the SF calculation follows from Fan-Paper:\n",
    "\\vspace{3mm}\n",
    "$$SF = \\frac{\\left(\\frac{\\delta\\Sigma}{\\delta\\Omega}\\right)_{ref}}{\\frac{(I_{GC})}{d_{GC}t_{GC}T_{GC}}}$$\n",
    "\\vspace{3mm}\n",
    ",with 'st' corresponding to the standard sample, in my case glassy carbon. BG corresponds to the background measurement and T the transmission factor for the GC measurements."
   ]
  },
  {
   "cell_type": "code",
   "execution_count": 24,
   "metadata": {},
   "outputs": [],
   "source": [
    "# Übergabe: \n",
    "#    - Intensity of GC\n",
    "#    - Q values of measurement for interpolation from Reference sample\n",
    "#    - Background of GC measurement\n",
    "#    - Transmissionfactor GC\n",
    "#    - thickness sample d_GC\n",
    "\n",
    "\n",
    "def calc_SF(I_GC,Q_GC,T_GC,d_GC,t_GC,plot=False):\n",
    "    \n",
    "    \n",
    "    from scipy.optimize import curve_fit as fit\n",
    "    def fit_lin(x,a,c):\n",
    "        return np.exp(a*np.log10(x)+c)\n",
    "\n",
    "    import os \n",
    "    #correct this line for the path in which the GC reference is located\n",
    "    sample_GCA = np.loadtxt(r'C:\\Users\\ZechT\\FAUbox\\Betreuung\\ILS\\WS2020-21_SAXS-Praktikum\\Gruppen\\Gruppe4/GC_APS.txt')\n",
    "    # in this line the linear fits at low Q values are made for the GC measurement and reference\n",
    "    DSC_GC = fit(fit_lin,Q_GC[:6],I_GC[:6]/(d_GC*t_GC*T_GC))[0]\n",
    "    DSC_Ref = fit(fit_lin,sample_GCA[:35,0],sample_GCA[:35,1])[0]\n",
    "    print('Fit Params. Meas: ',np.exp(DSC_GC), ' Fit Params. Ref: ',np.exp(DSC_Ref))\n",
    "    # the scaling factor is calculated \n",
    "    SF = np.exp(DSC_Ref[1])/(np.exp(DSC_GC[1]))\n",
    "    print(SF)\n",
    "    #SF = np.mean(SF)\n",
    "\n",
    "    return(SF, DSC_GC, DSC_Ref)     "
   ]
  },
  {
   "cell_type": "markdown",
   "metadata": {},
   "source": [
    "Finally the differential scattering crosssection for sample s will be correctly calculated using all previously determined parameters $SF$ and $d_s$:\n",
    "\\vspace{3mm}\n",
    "$$\\left(\\frac{\\delta\\Sigma}{\\delta\\Omega}\\right)_s(q) = SF \\left(\\frac{I_s(q)}{d_s t_sT_s}-\\frac{BG_s(q)}{d_{BG}t_{BG}T_{BG}}\\right)$$"
   ]
  },
  {
   "cell_type": "code",
   "execution_count": 25,
   "metadata": {},
   "outputs": [],
   "source": [
    "# Übergabe: \n",
    "#    - Intensity of sample\n",
    "#    - Background of sample measurement\n",
    "#    - Transmissionfactor GC\n",
    "#    - thickness sample d_GC\n",
    "#    - Scaling factor\n",
    "# WARNING: Use this formula only, if the BG (water) absolutcorrection (multiplied by SF and \n",
    "# divide by (t_BG*T_BG*d_BG)) has already been applied!!!\n",
    "def calc_diffScatCross(I_s,BG_s,T_sc,d_s,t_s,SF):\n",
    "    return(SF*(I_s)/(d_s*t_s*T_s)-BG_s)"
   ]
  },
  {
   "cell_type": "markdown",
   "metadata": {},
   "source": [
    "# From here on follows an example"
   ]
  },
  {
   "cell_type": "markdown",
   "metadata": {},
   "source": [
    "From here follows an example using sample TiS710 and data measured on our Anton Paar machine. First the intensities are extracted from .stat files. This process will not be discussed further, because it's simply parsing the files contained in the in 'dir' specified folder automatically. This step corresponds to  <span class=\"girk\">point (1)</span> in the cooking book. Calculate the transmission factors. (You have calculated the Transmission by hand via Fit2D. You can therefore ignore the following code section. Important is only the following table in which all the transmission values for the data that is relevant in the following correction steps.)"
   ]
  },
  {
   "cell_type": "code",
   "execution_count": 26,
   "metadata": {
    "code_folding": [
     10,
     18,
     37
    ]
   },
   "outputs": [
    {
     "data": {
      "text/html": [
       "<div>\n",
       "<style scoped>\n",
       "    .dataframe tbody tr th:only-of-type {\n",
       "        vertical-align: middle;\n",
       "    }\n",
       "\n",
       "    .dataframe tbody tr th {\n",
       "        vertical-align: top;\n",
       "    }\n",
       "\n",
       "    .dataframe thead th {\n",
       "        text-align: right;\n",
       "    }\n",
       "</style>\n",
       "<table border=\"1\" class=\"dataframe\">\n",
       "  <thead>\n",
       "    <tr style=\"text-align: right;\">\n",
       "      <th></th>\n",
       "      <th>TR</th>\n",
       "      <th>EB</th>\n",
       "      <th>I_TR</th>\n",
       "      <th>I_EB</th>\n",
       "      <th>T</th>\n",
       "    </tr>\n",
       "  </thead>\n",
       "  <tbody>\n",
       "    <tr>\n",
       "      <th>GC</th>\n",
       "      <td>01724</td>\n",
       "      <td>01723</td>\n",
       "      <td>3.75920E+05</td>\n",
       "      <td>7.01408E+05</td>\n",
       "      <td>0.535951</td>\n",
       "    </tr>\n",
       "    <tr>\n",
       "      <th>SGNR</th>\n",
       "      <td>01727</td>\n",
       "      <td>01728</td>\n",
       "      <td>2.11857E+05</td>\n",
       "      <td>7.99840E+05</td>\n",
       "      <td>0.264874</td>\n",
       "    </tr>\n",
       "    <tr>\n",
       "      <th>H2O</th>\n",
       "      <td>01744</td>\n",
       "      <td>01743</td>\n",
       "      <td>1.45425E+05</td>\n",
       "      <td>5.66515E+05</td>\n",
       "      <td>0.256701</td>\n",
       "    </tr>\n",
       "    <tr>\n",
       "      <th>EC</th>\n",
       "      <td>01746</td>\n",
       "      <td>01747</td>\n",
       "      <td>3.65022E+05</td>\n",
       "      <td>5.57136E+05</td>\n",
       "      <td>0.655176</td>\n",
       "    </tr>\n",
       "  </tbody>\n",
       "</table>\n",
       "</div>"
      ],
      "text/plain": [
       "         TR     EB         I_TR         I_EB         T\n",
       "GC    01724  01723  3.75920E+05  7.01408E+05  0.535951\n",
       "SGNR  01727  01728  2.11857E+05  7.99840E+05  0.264874\n",
       "H2O   01744  01743  1.45425E+05  5.66515E+05  0.256701\n",
       "EC    01746  01747  3.65022E+05  5.57136E+05  0.655176"
      ]
     },
     "execution_count": 26,
     "metadata": {},
     "output_type": "execute_result"
    }
   ],
   "source": [
    "import os\n",
    "\n",
    "dir = r'C:\\Users\\ZechT\\FAUbox\\Auswertung\\Software\\ICSPy\\compute\\SAXS\\test_data\\\\'\n",
    "\n",
    "l_EB_Stats = []\n",
    "l_TR_Stats = []\n",
    "\n",
    "table = pd.DataFrame(columns = ['TR','EB','I_TR','I_EB','T'])\n",
    "pairs = pd.DataFrame(columns = ['typ','samp'])\n",
    "\n",
    "for iFile in os.listdir(dir):\n",
    "    if os.path.isfile(os.path.join(dir, iFile)):\n",
    "        if '.stat' in iFile:\n",
    "            enum = iFile.split('_')[0]\n",
    "            typ = iFile.split('_')[2]\n",
    "            samp = iFile.split('_')[1]\n",
    "            pairs.loc[str(enum)] = [str(typ),str(samp)]\n",
    "\n",
    "for iFile in os.listdir(dir):\n",
    "    if os.path.isfile(os.path.join(dir, iFile)):\n",
    "        #print(os.path.join(dir,iFile))\n",
    "        if '.stat' in iFile:\n",
    "            for line in open(os.path.join(dir,iFile),'r'):\n",
    "                if 'Total intensity' in line:\n",
    "                    inty = line.split()[3]\n",
    "                    enum = iFile.split('_')[0]\n",
    "                    samp = pairs.loc[str(enum),'samp']\n",
    "                    typ = pairs.loc[str(enum),'typ']\n",
    "                    if str(samp) not in table.index:\n",
    "                        table.loc[str(samp)] = [0,0,0,0,0]\n",
    "                    if typ == 'TR':\n",
    "                        table.loc[str(samp),'TR'] = enum\n",
    "                        table.loc[str(samp),'I_TR'] = inty\n",
    "                    elif typ == 'EB' or 'DB':\n",
    "                        table.loc[str(samp),'EB'] = enum\n",
    "                        table.loc[str(samp),'I_EB'] = inty\n",
    "                    \n",
    "for iInd in table.index:\n",
    "    table.loc[iInd,'T'] = calc_T(float(table.loc[iInd,'I_TR']),float(table.loc[iInd,'I_EB']))\n",
    "    \n",
    "table"
   ]
  },
  {
   "cell_type": "markdown",
   "metadata": {},
   "source": [
    "\n",
    "In the next step the SF will be determined via the glassy carbon measurement. This is <span class=\"girk\">step (2)</span>."
   ]
  },
  {
   "cell_type": "code",
   "execution_count": 27,
   "metadata": {
    "scrolled": true
   },
   "outputs": [
    {
     "name": "stdout",
     "output_type": "stream",
     "text": [
      "Fit Params. Meas:  [0.72063473 8.97660892]  Fit Params. Ref:  [ 0.74103272 28.43637373]\n",
      "3.1678302992298346\n"
     ]
    },
    {
     "data": {
      "image/png": "[encoded data removed]",
      "text/plain": [
       "<Figure size 432x288 with 1 Axes>"
      ]
     },
     "metadata": {
      "needs_background": "light"
     },
     "output_type": "display_data"
    },
    {
     "name": "stdout",
     "output_type": "stream",
     "text": [
      "calculated scaling factor SF = 3.1678302992298346\n"
     ]
    }
   ],
   "source": [
    "#data_GC = np.loadtxt(r'C:\\Users\\ZechT\\FAUbox\\Betreuung\\ILS\\WS2020-21_SAXS-Praktikum\\Gruppen\\Gruppe4\\SAXS/7917_gc_reduced.pdh')\n",
    "sample_GCA = np.loadtxt(r'C:\\Users\\ZechT\\FAUbox\\Betreuung\\ILS\\WS2020-21_SAXS-Praktikum\\Gruppen\\Gruppe4/GC_APS.txt')\n",
    "data_GC = np.loadtxt(r'C:\\Users\\ZechT\\FAUbox\\Betreuung\\ILS\\WS2020-21_SAXS-Praktikum\\Gruppen\\Gruppe4\\SAXS/7917_gc_reduced.pdh',skiprows=5,max_rows=332)\n",
    "\n",
    "#data_GC[:,0] /= 10.0\n",
    "plt.figure()\n",
    "plt.loglog(data_GC[:,0]/10,data_GC[:,1],'xg', label='measured GC')\n",
    "plt.loglog(sample_GCA[:,0]/10,sample_GCA[:,1],'xr',label='reference GC')\n",
    "\n",
    "def fit_lin(x,a,c):\n",
    "    return np.exp(a*np.log10(x)+c)\n",
    "\n",
    "data_BG_GC = np.zeros(shape=(len(data_GC[:,0])))\n",
    "SF,Line_GC,Line_Ref = calc_SF(I_GC=data_GC[:,1],\n",
    "             t_GC=180,\n",
    "             Q_GC=data_GC[:,0],\n",
    "             T_GC=0.522,#table.loc['GC','T'],\n",
    "             d_GC=0.1)\n",
    "d_GC=0.1 #cm\n",
    "T_GC=0.522#table.loc['GC','T']\n",
    "t_GC=180 #s\n",
    "plt.loglog(data_GC[:,0]/10,data_GC[:,1]/(d_GC*t_GC*T_GC),'xb',label='transmission corrected GC')\n",
    "plt.loglog(data_GC[:,0]/10,fit_lin(data_GC[:,0],Line_GC[0],Line_GC[1]))\n",
    "plt.loglog(sample_GCA[:,0]/10,fit_lin(sample_GCA[:,0],Line_Ref[0],Line_Ref[1]))\n",
    "plt.loglog(data_GC[:,0]/10,data_GC[:,1]/(d_GC*t_GC*T_GC)*SF,'xb',label='absolute corrected GC')\n",
    "plt.legend(loc='best')\n",
    "plt.grid()\n",
    "plt.show()\n",
    "print('calculated scaling factor SF = ' +str(SF))"
   ]
  },
  {
   "cell_type": "markdown",
   "metadata": {},
   "source": [
    "In <span class=\"girk\">step (3)</span>  the thickness of the samples will be calculated from H2O and empty cell measurements."
   ]
  },
  {
   "cell_type": "code",
   "execution_count": 18,
   "metadata": {},
   "outputs": [
    {
     "name": "stdout",
     "output_type": "stream",
     "text": [
      "thickness of sample d_s = 0.09035601 ; (should be about 0.1 cm)\n"
     ]
    }
   ],
   "source": [
    "T_wc = table.loc['H2O','T']\n",
    "T_c = table.loc['EC','T']\n",
    "\n",
    "d_s = calc_d(T_wc=T_wc,T_c=T_c)\n",
    "print('thickness of sample d_s = %f01 ; (should be about 0.1 cm)' % d_s)"
   ]
  },
  {
   "cell_type": "markdown",
   "metadata": {},
   "source": [
    "In the end of this procedure (<span class=\"girk\">step (4)</span>) the differential scattering cross section of the sample will be calculated, by using the parameters determined in the steps above."
   ]
  },
  {
   "cell_type": "code",
   "execution_count": 20,
   "metadata": {},
   "outputs": [],
   "source": [
    "T_s = table.loc['SGNR','T']\n",
    "T_BG = table.loc['H2O','T']\n",
    "\n",
    "data_s = np.loadtxt(r'C:\\Users\\ZechT\\FAUbox\\Auswertung\\Software\\ICSPy\\compute\\SAXS\\test_data/01725_S_GNR.chi')\n",
    "data_H2O = np.loadtxt(r'C:\\Users\\ZechT\\FAUbox\\Auswertung\\Software\\ICSPy\\compute\\SAXS\\test_data/01745_H2O.chi')\n",
    "\n",
    "I_s = data_s[:,1]\n",
    "BG_s = data_H2O[:,1]\n",
    "\n",
    "t_s = 3600\n",
    "t_BG = 3600\n",
    "\n",
    "d_BG = float(d_s)\n",
    "\n",
    "DSC_s = SF*(I_s/(d_s*T_s*t_s)-BG_s/(t_BG*T_BG*d_BG))"
   ]
  },
  {
   "cell_type": "code",
   "execution_count": 23,
   "metadata": {},
   "outputs": [
    {
     "data": {
      "image/png": "[encoded data removed]",
      "text/plain": [
       "<Figure size 432x288 with 1 Axes>"
      ]
     },
     "metadata": {
      "needs_background": "light"
     },
     "output_type": "display_data"
    }
   ],
   "source": [
    "plt.loglog(data_s[:,0],data_s[:,1],'xb',label='corrected DSC for GNRs');\n",
    "plt.loglog(data_H2O[:,0],data_H2O[:,1],'xr',label='corrected DSC for GNRs');\n",
    "plt.loglog(data_s[:,0],DSC_s,'xk',label='corrected DSC for GNRs');\n",
    "plt.legend()\n",
    "plt.grid()\n",
    "plt.show()"
   ]
  },
  {
   "cell_type": "code",
   "execution_count": null,
   "metadata": {
    "collapsed": true
   },
   "outputs": [],
   "source": []
  }
 ],
 "metadata": {
  "hide_input": false,
  "kernelspec": {
   "display_name": "Python 3",
   "language": "python",
   "name": "python3"
  },
  "language_info": {
   "codemirror_mode": {
    "name": "ipython",
    "version": 3
   },
   "file_extension": ".py",
   "mimetype": "text/x-python",
   "name": "python",
   "nbconvert_exporter": "python",
   "pygments_lexer": "ipython3",
   "version": "3.7.1"
  },
  "latex_envs": {
   "LaTeX_envs_menu_present": true,
   "autocomplete": true,
   "bibliofile": "biblio.bib",
   "cite_by": "apalike",
   "current_citInitial": 1,
   "eqLabelWithNumbers": true,
   "eqNumInitial": 1,
   "hotkeys": {
    "equation": "Ctrl-E",
    "itemize": "Ctrl-I"
   },
   "labels_anchors": false,
   "latex_user_defs": false,
   "report_style_numbering": false,
   "user_envs_cfg": false
  },
  "varInspector": {
   "cols": {
    "lenName": 16,
    "lenType": 16,
    "lenVar": 40
   },
   "kernels_config": {
    "python": {
     "delete_cmd_postfix": "",
     "delete_cmd_prefix": "del ",
     "library": "var_list.py",
     "varRefreshCmd": "print(var_dic_list())"
    },
    "r": {
     "delete_cmd_postfix": ") ",
     "delete_cmd_prefix": "rm(",
     "library": "var_list.r",
     "varRefreshCmd": "cat(var_dic_list()) "
    }
   },
   "types_to_exclude": [
    "module",
    "function",
    "builtin_function_or_method",
    "instance",
    "_Feature"
   ],
   "window_display": false
  }
 },
 "nbformat": 4,
 "nbformat_minor": 2
}
